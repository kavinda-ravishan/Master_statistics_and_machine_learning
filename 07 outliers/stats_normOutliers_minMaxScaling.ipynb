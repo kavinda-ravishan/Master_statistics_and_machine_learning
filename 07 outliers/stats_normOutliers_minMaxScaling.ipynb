{
 "cells": [
  {
   "cell_type": "markdown",
   "source": [
    "# COURSE: Master statistics and machine learning: Intuition, Math, code\n",
    "##### COURSE URL: \n",
    "## SECTION: Data normalizations and outliers\n",
    "### VIDEO: Min-max scaling\n",
    "#### TEACHER: Mike X Cohen, sincxpress.com"
   ],
   "metadata": {}
  },
  {
   "cell_type": "code",
   "execution_count": 1,
   "source": [
    "# import libraries\r\n",
    "import matplotlib.pyplot as plt\r\n",
    "import numpy as np"
   ],
   "outputs": [],
   "metadata": {}
  },
  {
   "cell_type": "code",
   "execution_count": 2,
   "source": [
    "## create some data\r\n",
    "\r\n",
    "N = 42\r\n",
    "data = np.log(np.random.rand(N))*234 + 934\r\n",
    "\r\n",
    "# get min and max\r\n",
    "dataMin = min(data)\r\n",
    "dataMax = max(data)\r\n",
    "\r\n",
    "# now min-max scale\r\n",
    "dataS = (data-dataMin) / (dataMax-dataMin)\r\n",
    "\r\n",
    "\r\n",
    "# now plot\r\n",
    "fig,ax = plt.subplots(1,2,figsize=(8,4))\r\n",
    "ax[0].plot(1+np.random.randn(N)/20,data,'ks')\r\n",
    "ax[0].set_xlim([0,2])\r\n",
    "ax[0].set_xticks([])\r\n",
    "ax[0].set_ylabel('Original data scale')\r\n",
    "ax[0].set_title('Original data')\r\n",
    "\r\n",
    "ax[1].plot(1+np.random.randn(N)/20,dataS,'ks')\r\n",
    "ax[1].set_xlim([0,2])\r\n",
    "ax[1].set_xticks([])\r\n",
    "ax[1].set_ylabel('Unity-normed data scale')\r\n",
    "ax[1].set_title('Scaled data')\r\n",
    "\r\n",
    "plt.show()"
   ],
   "outputs": [
    {
     "output_type": "display_data",
     "data": {
      "text/plain": [
       "<Figure size 576x288 with 2 Axes>"
      ],
      "image/png": "[encoded data removed]"
     },
     "metadata": {
      "needs_background": "light"
     }
    }
   ],
   "metadata": {}
  },
  {
   "cell_type": "code",
   "execution_count": 3,
   "source": [
    "## show that scaling doesn't affect the relative values\r\n",
    "\r\n",
    "plt.plot(data,dataS,'ks')\r\n",
    "plt.xlabel('Original')\r\n",
    "plt.ylabel('Scaled')\r\n",
    "plt.show()"
   ],
   "outputs": [
    {
     "output_type": "display_data",
     "data": {
      "text/plain": [
       "<Figure size 432x288 with 1 Axes>"
      ],
      "image/png": "[encoded data removed]"
     },
     "metadata": {
      "needs_background": "light"
     }
    }
   ],
   "metadata": {}
  },
  {
   "cell_type": "code",
   "execution_count": 4,
   "source": [
    "np.corrcoef(data,dataS)[0,0]"
   ],
   "outputs": [
    {
     "output_type": "execute_result",
     "data": {
      "text/plain": [
       "1.0"
      ]
     },
     "metadata": {},
     "execution_count": 4
    }
   ],
   "metadata": {}
  },
  {
   "cell_type": "code",
   "execution_count": 5,
   "source": [
    "## any abitrary data range\r\n",
    "\r\n",
    "# step 1 is to [0,1] normalize as above\r\n",
    "\r\n",
    "# step 2:\r\n",
    "newMin = 4\r\n",
    "newMax = 8.7\r\n",
    "\r\n",
    "dataSS = dataS*(newMax-newMin) + newMin\r\n",
    "\r\n",
    "# test it!\r\n",
    "print([min(dataSS), max(dataSS)])\r\n"
   ],
   "outputs": [
    {
     "output_type": "stream",
     "name": "stdout",
     "text": [
      "[4.0, 8.7]\n"
     ]
    }
   ],
   "metadata": {}
  }
 ],
 "metadata": {
  "kernelspec": {
   "name": "python3",
   "display_name": "Python 3.8.5 64-bit ('base': conda)"
  },
  "language_info": {
   "codemirror_mode": {
    "name": "ipython",
    "version": 3
   },
   "file_extension": ".py",
   "mimetype": "text/x-python",
   "name": "python",
   "nbconvert_exporter": "python",
   "pygments_lexer": "ipython3",
   "version": "3.8.5"
  },
  "interpreter": {
   "hash": "293c111297a61481508202fcd690d673b0775ece2d2d867b62b8842b676a9a30"
  }
 },
 "nbformat": 4,
 "nbformat_minor": 2
}