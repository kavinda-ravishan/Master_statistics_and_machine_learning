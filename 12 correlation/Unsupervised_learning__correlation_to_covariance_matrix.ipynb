{
 "cells": [
  {
   "cell_type": "code",
   "execution_count": 26,
   "source": [
    "import numpy as np"
   ],
   "outputs": [],
   "metadata": {}
  },
  {
   "cell_type": "code",
   "execution_count": 27,
   "source": [
    "## simulate data\r\n",
    "\r\n",
    "# simulation parameters\r\n",
    "N = 1000  # time points\r\n",
    "M =    4  # channels\r\n",
    "\r\n",
    "# time vector (radian units)\r\n",
    "t = np.linspace(0,6*np.pi,N)\r\n",
    "\r\n",
    "# relationship across channels (imposing covariance)\r\n",
    "chanrel = np.sin(np.linspace(0,2*np.pi,M))\r\n",
    "\r\n",
    "# create the data\r\n",
    "data = np.zeros((M,N))\r\n",
    "for mi in range(M):\r\n",
    "    data[mi:] = np.sin(t) * chanrel[mi]\r\n",
    "\r\n",
    "data = data + np.random.randn(M,N)\r\n",
    "\r\n",
    "dataCovMat = np.cov(data)\r\n",
    "dataCorrMat = np.corrcoef(data)"
   ],
   "outputs": [],
   "metadata": {}
  },
  {
   "cell_type": "code",
   "execution_count": 28,
   "source": [
    "stdDiag = np.diag(np.std(data, axis=1))\r\n",
    "stdDiag"
   ],
   "outputs": [
    {
     "output_type": "execute_result",
     "data": {
      "text/plain": [
       "array([[0.97632209, 0.        , 0.        , 0.        ],\n",
       "       [0.        , 1.16674915, 0.        , 0.        ],\n",
       "       [0.        , 0.        , 1.16802766, 0.        ],\n",
       "       [0.        , 0.        , 0.        , 0.95530474]])"
      ]
     },
     "metadata": {},
     "execution_count": 28
    }
   ],
   "metadata": {}
  },
  {
   "cell_type": "code",
   "execution_count": 29,
   "source": [
    "np.matmul(np.matmul(stdDiag, dataCorrMat), stdDiag)"
   ],
   "outputs": [
    {
     "output_type": "execute_result",
     "data": {
      "text/plain": [
       "array([[ 0.95320482,  0.00287548,  0.02075392, -0.0095326 ],\n",
       "       [ 0.00287548,  1.36130359, -0.3668193 , -0.01608269],\n",
       "       [ 0.02075392, -0.3668193 ,  1.36428862, -0.0072109 ],\n",
       "       [-0.0095326 , -0.01608269, -0.0072109 ,  0.91260715]])"
      ]
     },
     "metadata": {},
     "execution_count": 29
    }
   ],
   "metadata": {}
  },
  {
   "cell_type": "code",
   "execution_count": 30,
   "source": [
    "dataCovMat"
   ],
   "outputs": [
    {
     "output_type": "execute_result",
     "data": {
      "text/plain": [
       "array([[ 0.95415898,  0.00287836,  0.0207747 , -0.00954214],\n",
       "       [ 0.00287836,  1.36266625, -0.36718649, -0.01609879],\n",
       "       [ 0.0207747 , -0.36718649,  1.36565427, -0.00721812],\n",
       "       [-0.00954214, -0.01609879, -0.00721812,  0.91352067]])"
      ]
     },
     "metadata": {},
     "execution_count": 30
    }
   ],
   "metadata": {}
  },
  {
   "cell_type": "code",
   "execution_count": 31,
   "source": [
    "stdDiagInv = np.linalg.inv(stdDiag)\r\n",
    "np.matmul(np.matmul(stdDiagInv, dataCovMat), stdDiagInv)"
   ],
   "outputs": [
    {
     "output_type": "execute_result",
     "data": {
      "text/plain": [
       "array([[ 1.001001  ,  0.00252682,  0.01821749, -0.01023083],\n",
       "       [ 0.00252682,  1.001001  , -0.26943627, -0.01444354],\n",
       "       [ 0.01821749, -0.26943627,  1.001001  , -0.00646888],\n",
       "       [-0.01023083, -0.01444354, -0.00646888,  1.001001  ]])"
      ]
     },
     "metadata": {},
     "execution_count": 31
    }
   ],
   "metadata": {}
  },
  {
   "cell_type": "code",
   "execution_count": 32,
   "source": [
    "dataCorrMat"
   ],
   "outputs": [
    {
     "output_type": "execute_result",
     "data": {
      "text/plain": [
       "array([[ 1.        ,  0.00252429,  0.01819927, -0.0102206 ],\n",
       "       [ 0.00252429,  1.        , -0.26916684, -0.0144291 ],\n",
       "       [ 0.01819927, -0.26916684,  1.        , -0.00646241],\n",
       "       [-0.0102206 , -0.0144291 , -0.00646241,  1.        ]])"
      ]
     },
     "metadata": {},
     "execution_count": 32
    }
   ],
   "metadata": {}
  }
 ],
 "metadata": {
  "orig_nbformat": 4,
  "language_info": {
   "name": "python",
   "version": "3.8.5",
   "mimetype": "text/x-python",
   "codemirror_mode": {
    "name": "ipython",
    "version": 3
   },
   "pygments_lexer": "ipython3",
   "nbconvert_exporter": "python",
   "file_extension": ".py"
  },
  "kernelspec": {
   "name": "python3",
   "display_name": "Python 3.8.5 64-bit ('base': conda)"
  },
  "interpreter": {
   "hash": "293c111297a61481508202fcd690d673b0775ece2d2d867b62b8842b676a9a30"
  }
 },
 "nbformat": 4,
 "nbformat_minor": 2
}