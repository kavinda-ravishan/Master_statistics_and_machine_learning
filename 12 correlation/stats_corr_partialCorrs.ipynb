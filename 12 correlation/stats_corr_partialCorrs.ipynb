{
 "cells": [
  {
   "cell_type": "markdown",
   "source": [
    "# COURSE: Master statistics and machine learning: Intuition, Math, code\n",
    "##### COURSE URL: udemy.com/course/statsml_x/?couponCode=202006 \n",
    "## SECTION: Correlation\n",
    "### VIDEO: Partial correlations\n",
    "#### TEACHER: Mike X Cohen, sincxpress.com"
   ],
   "metadata": {}
  },
  {
   "cell_type": "code",
   "execution_count": 1,
   "source": [
    "# import libraries\r\n",
    "import matplotlib.pyplot as plt\r\n",
    "import numpy as np\r\n",
    "import pandas as pd\r\n",
    "import scipy.stats as stats"
   ],
   "outputs": [],
   "metadata": {}
  },
  {
   "cell_type": "code",
   "execution_count": 5,
   "source": [
    "# I'm using pingouin for partial correlations.\r\n",
    "# You might need to install it, e.g., using the line below.\r\n",
    "# This needs to be run only once per install.\r\n",
    "# conda install -c conda-forge pingouin\r\n",
    "import pingouin as pg"
   ],
   "outputs": [],
   "metadata": {}
  },
  {
   "cell_type": "code",
   "execution_count": 6,
   "source": [
    "## the example from the video\r\n",
    "\r\n",
    "# raw correlations\r\n",
    "rmg = .7\r\n",
    "rsg = .8\r\n",
    "rms = .9\r\n",
    "\r\n",
    "# partial correlations\r\n",
    "rho_mg_s = (rmg - rsg*rms) / ( np.sqrt(1-rsg**2)*np.sqrt(1-rms**2) )\r\n",
    "rho_sg_m = (rsg - rmg*rms) / ( np.sqrt(1-rmg**2)*np.sqrt(1-rms**2) )\r\n",
    "\r\n",
    "print(rho_mg_s)\r\n",
    "print(rho_sg_m)"
   ],
   "outputs": [
    {
     "output_type": "stream",
     "name": "stdout",
     "text": [
      "-0.07647191129018778\n",
      "0.5461186812727504\n"
     ]
    }
   ],
   "metadata": {}
  },
  {
   "cell_type": "code",
   "execution_count": 7,
   "source": [
    "## now for datasets\r\n",
    "\r\n",
    "N = 76\r\n",
    "\r\n",
    "# correlated datasets\r\n",
    "x1 = np.linspace(1,10,N) + np.random.randn(N)\r\n",
    "x2 = x1 + np.random.randn(N)\r\n",
    "x3 = x1 + np.random.randn(N)\r\n",
    "\r\n",
    "# let's convert these data to a pandas frame\r\n",
    "df = pd.DataFrame()\r\n",
    "df['x1'] = x1\r\n",
    "df['x2'] = x2\r\n",
    "df['x3'] = x3\r\n",
    "\r\n",
    "# compute the \"raw\" correlation matrix\r\n",
    "cormatR = df.corr()\r\n",
    "print(cormatR)\r\n",
    "\r\n",
    "# print out one value\r\n",
    "print(' ')\r\n",
    "print(cormatR.values[1,0])\r\n",
    "\r\n",
    "# partial correlation\r\n",
    "pc = pg.partial_corr(df,x='x3',y='x2',covar='x1')\r\n",
    "print(' ')\r\n",
    "print(pc)"
   ],
   "outputs": [
    {
     "output_type": "stream",
     "name": "stdout",
     "text": [
      "          x1        x2        x3\n",
      "x1  1.000000  0.950161  0.951863\n",
      "x2  0.950161  1.000000  0.905906\n",
      "x3  0.951863  0.905906  1.000000\n",
      " \n",
      "0.950160691761744\n",
      " \n",
      "          n         r          CI95%     p-val\n",
      "pearson  76  0.015526  [-0.21, 0.24]  0.894821\n"
     ]
    }
   ],
   "metadata": {}
  },
  {
   "cell_type": "code",
   "execution_count": 8,
   "source": [
    "## visualize the matrices\n",
    "\n",
    "fig,ax = plt.subplots(1,2,figsize=(6,3))\n",
    "\n",
    "# raw correlations\n",
    "ax[0].imshow(cormatR.values,vmin=-1,vmax=1)\n",
    "ax[0].set_xticks(range(3))\n",
    "ax[0].set_yticks(range(3))\n",
    "\n",
    "# add text \n",
    "for i in range(3):\n",
    "    for j in range(3):\n",
    "        ax[0].text(i,j,np.round(cormatR.values[i,j],2), horizontalalignment='center')\n",
    "\n",
    "        \n",
    "        \n",
    "# partial correlations\n",
    "partialCorMat = df.pcorr()\n",
    "ax[1].imshow(partialCorMat.values,vmin=-1,vmax=1)\n",
    "ax[1].set_xticks(range(3))\n",
    "ax[1].set_yticks(range(3))\n",
    "\n",
    "for i in range(3):\n",
    "    for j in range(3):\n",
    "        ax[1].text(i,j,np.round(partialCorMat.values[i,j],2), horizontalalignment='center')\n",
    "\n",
    "\n",
    "plt.show()"
   ],
   "outputs": [
    {
     "output_type": "display_data",
     "data": {
      "image/png": "[encoded data removed]",
      "text/plain": [
       "<Figure size 432x216 with 2 Axes>"
      ]
     },
     "metadata": {
      "needs_background": "light"
     }
    }
   ],
   "metadata": {}
  }
 ],
 "metadata": {
  "kernelspec": {
   "name": "python3",
   "display_name": "Python 3.8.5 64-bit ('base': conda)"
  },
  "language_info": {
   "codemirror_mode": {
    "name": "ipython",
    "version": 3
   },
   "file_extension": ".py",
   "mimetype": "text/x-python",
   "name": "python",
   "nbconvert_exporter": "python",
   "pygments_lexer": "ipython3",
   "version": "3.8.5"
  },
  "interpreter": {
   "hash": "293c111297a61481508202fcd690d673b0775ece2d2d867b62b8842b676a9a30"
  }
 },
 "nbformat": 4,
 "nbformat_minor": 2
}