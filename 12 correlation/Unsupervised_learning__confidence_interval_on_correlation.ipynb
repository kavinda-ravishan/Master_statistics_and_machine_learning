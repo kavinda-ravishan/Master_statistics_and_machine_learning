{
 "cells": [
  {
   "cell_type": "code",
   "execution_count": 60,
   "source": [
    "import matplotlib.pyplot as plt\r\n",
    "import numpy as np"
   ],
   "outputs": [],
   "metadata": {}
  },
  {
   "cell_type": "code",
   "execution_count": 61,
   "source": [
    "N = 100\r\n",
    "r = 0.6\r\n",
    "\r\n",
    "x = np.random.randn(N)\r\n",
    "y = np.random.randn(N)\r\n",
    "\r\n",
    "y = x*r + y*np.sqrt( 1 - r**2)"
   ],
   "outputs": [],
   "metadata": {}
  },
  {
   "cell_type": "code",
   "execution_count": 62,
   "source": [
    "np.corrcoef(np.vstack((x,y)))[1,0]"
   ],
   "outputs": [
    {
     "output_type": "execute_result",
     "data": {
      "text/plain": [
       "0.5929417133311057"
      ]
     },
     "metadata": {},
     "execution_count": 62
    }
   ],
   "metadata": {}
  },
  {
   "cell_type": "code",
   "execution_count": 63,
   "source": [
    "samplesize = N/2\r\n",
    "confidence = 95\r\n",
    "numboots = 100\r\n",
    "corrs = np.zeros(numboots)\r\n",
    "\r\n",
    "\r\n",
    "\r\n",
    "for i in range(numboots): \r\n",
    "\r\n",
    "    randlist = np.arange(N)\r\n",
    "    np.random.shuffle(randlist)\r\n",
    "    sample = randlist[:int(samplesize)]\r\n",
    "    x1 = x[sample]\r\n",
    "    y1 = y[sample]\r\n",
    "    \r\n",
    "    corrs[i] = np.corrcoef(np.vstack((x1,y1)))[1,0]\r\n"
   ],
   "outputs": [],
   "metadata": {}
  },
  {
   "cell_type": "code",
   "execution_count": 64,
   "source": [
    "corrlb = np.percentile(corrs,(100-confidence)/2)\r\n",
    "corrub = np.percentile(corrs,100-(100-confidence)/2)"
   ],
   "outputs": [],
   "metadata": {}
  },
  {
   "cell_type": "code",
   "execution_count": 65,
   "source": [
    "plt.hist(corrs, 10)\r\n",
    "plt.title(f'{corrlb} : {corrub}')\r\n",
    "plt.show()"
   ],
   "outputs": [
    {
     "output_type": "display_data",
     "data": {
      "image/png": "[encoded data removed]",
      "text/plain": [
       "<Figure size 432x288 with 1 Axes>"
      ]
     },
     "metadata": {
      "needs_background": "light"
     }
    }
   ],
   "metadata": {}
  }
 ],
 "metadata": {
  "orig_nbformat": 4,
  "language_info": {
   "name": "python",
   "version": "3.8.5",
   "mimetype": "text/x-python",
   "codemirror_mode": {
    "name": "ipython",
    "version": 3
   },
   "pygments_lexer": "ipython3",
   "nbconvert_exporter": "python",
   "file_extension": ".py"
  },
  "kernelspec": {
   "name": "python3",
   "display_name": "Python 3.8.5 64-bit ('base': conda)"
  },
  "interpreter": {
   "hash": "293c111297a61481508202fcd690d673b0775ece2d2d867b62b8842b676a9a30"
  }
 },
 "nbformat": 4,
 "nbformat_minor": 2
}