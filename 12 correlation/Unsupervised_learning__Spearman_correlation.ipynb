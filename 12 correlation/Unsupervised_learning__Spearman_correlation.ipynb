{
 "cells": [
  {
   "cell_type": "code",
   "execution_count": 1,
   "source": [
    "import numpy as np\r\n",
    "import scipy.stats as stats"
   ],
   "outputs": [],
   "metadata": {}
  },
  {
   "cell_type": "code",
   "execution_count": 2,
   "source": [
    "x = np.array([\r\n",
    "    [8,  6.58, ],\r\n",
    "    [8,  5.76, ],\r\n",
    "    [8,  7.71, ],\r\n",
    "    [8,  8.84, ],\r\n",
    "    [8,  8.47, ],\r\n",
    "    [8,  7.04, ],\r\n",
    "    [8,  5.25, ],\r\n",
    "    [8,  5.56, ],\r\n",
    "    [8,  7.91, ],\r\n",
    "    [8,  6.89, ],\r\n",
    "    [19, 12.50, ]\r\n",
    "    ])\r\n",
    "\r\n",
    "x1 = x[:,0]\r\n",
    "x2 = x[:,1]\r\n",
    "\r\n",
    "corr_p = stats.pearsonr(x1, x2)[0]\r\n",
    "corr_s = stats.spearmanr(x1, x2)[0]"
   ],
   "outputs": [],
   "metadata": {}
  },
  {
   "cell_type": "code",
   "execution_count": 3,
   "source": [
    "avg_x1 = np.mean(x1)\r\n",
    "avg_x2 = np.mean(x2)\r\n",
    "\r\n",
    "num = np.sum((x1-avg_x1)*(x2-avg_x2))\r\n",
    "den = np.power(  np.sum(np.power( (x1-avg_x1), 2 )) * np.sum(np.power( (x2-avg_x2), 2 )) , 0.5)\r\n",
    "\r\n",
    "corr_p_2 = num/den"
   ],
   "outputs": [],
   "metadata": {}
  },
  {
   "cell_type": "code",
   "execution_count": 4,
   "source": [
    "print(f'Pearson correlation : {corr_p_2:.4f},  {corr_p_2:.4f}')"
   ],
   "outputs": [
    {
     "output_type": "stream",
     "name": "stdout",
     "text": [
      "Pearson correlation : 0.8165,  0.8165\n"
     ]
    }
   ],
   "metadata": {}
  },
  {
   "cell_type": "code",
   "execution_count": 5,
   "source": [
    "x1_rank = stats.rankdata(x1)\r\n",
    "x2_rank = stats.rankdata(x2)\r\n",
    "\r\n",
    "avg_x1 = np.mean(x1_rank)\r\n",
    "avg_x2 = np.mean(x2_rank)\r\n",
    "\r\n",
    "num = np.sum((x1_rank-avg_x1)*(x2_rank-avg_x2))\r\n",
    "den = np.power(  np.sum(np.power( (x1_rank-avg_x1), 2 )) * np.sum(np.power( (x2_rank-avg_x2), 2 )) , 0.5)\r\n",
    "\r\n",
    "corr_s_2 = num/den"
   ],
   "outputs": [],
   "metadata": {}
  },
  {
   "cell_type": "code",
   "execution_count": 6,
   "source": [
    "print(f'Spearman correlation : {corr_s_2:.4f},  {corr_s:.4f}')"
   ],
   "outputs": [
    {
     "output_type": "stream",
     "name": "stdout",
     "text": [
      "Spearman correlation : 0.5000,  0.5000\n"
     ]
    }
   ],
   "metadata": {}
  }
 ],
 "metadata": {
  "orig_nbformat": 4,
  "language_info": {
   "name": "python",
   "version": "3.8.5",
   "mimetype": "text/x-python",
   "codemirror_mode": {
    "name": "ipython",
    "version": 3
   },
   "pygments_lexer": "ipython3",
   "nbconvert_exporter": "python",
   "file_extension": ".py"
  },
  "kernelspec": {
   "name": "python3",
   "display_name": "Python 3.8.5 64-bit ('base': conda)"
  },
  "interpreter": {
   "hash": "293c111297a61481508202fcd690d673b0775ece2d2d867b62b8842b676a9a30"
  }
 },
 "nbformat": 4,
 "nbformat_minor": 2
}