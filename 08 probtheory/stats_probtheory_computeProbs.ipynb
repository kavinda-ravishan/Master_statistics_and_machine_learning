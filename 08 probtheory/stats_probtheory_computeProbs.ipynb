{
 "cells": [
  {
   "cell_type": "markdown",
   "source": [
    "# COURSE: Master statistics and machine learning: Intuition, Math, code\n",
    "##### COURSE URL: udemy.com/course/statsml_x/?couponCode=202006 \n",
    "## SECTION: Probability theory\n",
    "### VIDEO: Compute probabilities\n",
    "#### TEACHER: Mike X Cohen, sincxpress.com"
   ],
   "metadata": {}
  },
  {
   "cell_type": "code",
   "execution_count": 1,
   "source": [
    "# import libraries\r\n",
    "import matplotlib.pyplot as plt\r\n",
    "import numpy as np"
   ],
   "outputs": [],
   "metadata": {}
  },
  {
   "cell_type": "code",
   "execution_count": 2,
   "source": [
    "## the basic formula\r\n",
    "\r\n",
    "# counts of the different events\r\n",
    "c = np.array([ 1, 2, 4, 3 ])\r\n",
    "\r\n",
    "# convert to probability (%)\r\n",
    "prob = 100*c / np.sum(c)\r\n",
    "print(prob)"
   ],
   "outputs": [
    {
     "output_type": "stream",
     "name": "stdout",
     "text": [
      "[10. 20. 40. 30.]\n"
     ]
    }
   ],
   "metadata": {}
  },
  {
   "cell_type": "code",
   "execution_count": 3,
   "source": [
    "## the example of drawing marbles from a jar\r\n",
    "\r\n",
    "# colored marble counts\r\n",
    "blue   = 40\r\n",
    "yellow = 30\r\n",
    "orange = 20\r\n",
    "totalMarbs = blue + yellow + orange\r\n",
    "\r\n",
    "# put them all in a jar\r\n",
    "jar = np.hstack((1*np.ones(blue),2*np.ones(yellow),3*np.ones(orange)))\r\n",
    "\r\n",
    "# now we draw 500 marbles (with replacement)\r\n",
    "numDraws = 500\r\n",
    "drawColors = np.zeros(numDraws)\r\n",
    "\r\n",
    "for drawi in range(numDraws):\r\n",
    "    \r\n",
    "    # generate a random integer to draw\r\n",
    "    randmarble = int(np.random.rand()*len(jar))\r\n",
    "    \r\n",
    "    # store the color of that marble\r\n",
    "    drawColors[drawi] = jar[randmarble]\r\n",
    "\r\n",
    "# now we need to know the proportion of colors drawn\r\n",
    "propBlue = sum(drawColors==1) / numDraws\r\n",
    "propYell = sum(drawColors==2) / numDraws\r\n",
    "propOran = sum(drawColors==3) / numDraws\r\n",
    "\r\n",
    "\r\n",
    "# plot those against the theoretical probability\r\n",
    "plt.bar([1,2,3],[ propBlue, propYell, propOran ],label='Proportion')\r\n",
    "plt.plot([0.5, 1.5],[blue/totalMarbs, blue/totalMarbs],'b',linewidth=3,label='Probability')\r\n",
    "plt.plot([1.5, 2.5],[yellow/totalMarbs,yellow/totalMarbs],'b',linewidth=3)\r\n",
    "plt.plot([2.5, 3.5],[orange/totalMarbs,orange/totalMarbs],'b',linewidth=3)\r\n",
    "\r\n",
    "plt.xticks([1,2,3],labels=('Blue','Yellow','Orange'))\r\n",
    "plt.xlabel('Marble color')\r\n",
    "plt.ylabel('Proportion/probability')\r\n",
    "plt.legend()\r\n",
    "plt.show()"
   ],
   "outputs": [
    {
     "output_type": "display_data",
     "data": {
      "text/plain": [
       "<Figure size 432x288 with 1 Axes>"
      ],
      "image/png": "[encoded data removed]"
     },
     "metadata": {
      "needs_background": "light"
     }
    }
   ],
   "metadata": {}
  }
 ],
 "metadata": {
  "kernelspec": {
   "name": "python3",
   "display_name": "Python 3.8.5 64-bit ('base': conda)"
  },
  "language_info": {
   "codemirror_mode": {
    "name": "ipython",
    "version": 3
   },
   "file_extension": ".py",
   "mimetype": "text/x-python",
   "name": "python",
   "nbconvert_exporter": "python",
   "pygments_lexer": "ipython3",
   "version": "3.8.5"
  },
  "interpreter": {
   "hash": "293c111297a61481508202fcd690d673b0775ece2d2d867b62b8842b676a9a30"
  }
 },
 "nbformat": 4,
 "nbformat_minor": 2
}