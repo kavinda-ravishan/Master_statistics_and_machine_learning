{
 "cells": [
  {
   "cell_type": "code",
   "execution_count": 30,
   "metadata": {},
   "outputs": [],
   "source": [
    "import numpy as np\n",
    "import matplotlib.pyplot as plt"
   ]
  },
  {
   "cell_type": "code",
   "execution_count": 31,
   "metadata": {},
   "outputs": [],
   "source": [
    "N = 10\n",
    "\n",
    "x = np.linspace(1, 10, N) + np.random.randn(N)\n",
    "y1 = x + np.random.randn(N)\n",
    "y2 = x + np.random.randn(N)"
   ]
  },
  {
   "cell_type": "code",
   "execution_count": 32,
   "metadata": {},
   "outputs": [
    {
     "name": "stderr",
     "output_type": "stream",
     "text": [
      "C:\\Users\\kavinda\\anaconda3\\lib\\site-packages\\IPython\\core\\interactiveshell.py:3437: RankWarning: Polyfit may be poorly conditioned\n",
      "  exec(code_obj, self.user_global_ns, self.user_ns)\n"
     ]
    }
   ],
   "source": [
    "pterms1 = np.polyfit(x,y1,1)\n",
    "yHat1 = np.polyval(pterms1,x)\n",
    "\n",
    "pterms2 = np.polyfit(x,y1,10)\n",
    "yHat2 = np.polyval(pterms2,x)"
   ]
  },
  {
   "cell_type": "code",
   "execution_count": 33,
   "metadata": {},
   "outputs": [
    {
     "data": {
      "image/png": "[encoded data removed]",
      "text/plain": [
       "<Figure size 432x288 with 1 Axes>"
      ]
     },
     "metadata": {
      "needs_background": "light"
     },
     "output_type": "display_data"
    }
   ],
   "source": [
    "plt.plot(x, yHat2, 'mo', markersize=10, markerfacecolor='w')\n",
    "plt.plot(x, yHat1, 'mo:')\n",
    "plt.plot(x, y1, 'ro')\n",
    "plt.plot(x, y2, 'bo')\n",
    "plt.show()"
   ]
  },
  {
   "cell_type": "code",
   "execution_count": 39,
   "metadata": {},
   "outputs": [],
   "source": [
    "def R2(y, yHat):\n",
    "    SSe = np.sum(np.square(y - yHat))\n",
    "    SSt = np.sum(np.square(y - np.mean(y)))\n",
    "    return (1 - (SSe / SSt))"
   ]
  },
  {
   "cell_type": "code",
   "execution_count": 41,
   "metadata": {},
   "outputs": [
    {
     "name": "stdout",
     "output_type": "stream",
     "text": [
      "2 - pol model R2 : train data = 0.938, test data = 0.761\n",
      "10- pol model R2 : train data = 1.000, test data = 0.577\n"
     ]
    }
   ],
   "source": [
    "print(f'2 - pol model R2 : train data = {R2(y1, yHat1):.3f}, test data = {R2(y2, yHat1):.3f}')\n",
    "print(f'10- pol model R2 : train data = {R2(y1, yHat2):.3f}, test data = {R2(y2, yHat2):.3f}')"
   ]
  }
 ],
 "metadata": {
  "interpreter": {
   "hash": "293c111297a61481508202fcd690d673b0775ece2d2d867b62b8842b676a9a30"
  },
  "kernelspec": {
   "display_name": "Python 3.8.8 64-bit ('base': conda)",
   "language": "python",
   "name": "python3"
  },
  "language_info": {
   "codemirror_mode": {
    "name": "ipython",
    "version": 3
   },
   "file_extension": ".py",
   "mimetype": "text/x-python",
   "name": "python",
   "nbconvert_exporter": "python",
   "pygments_lexer": "ipython3",
   "version": "3.8.8"
  },
  "orig_nbformat": 4
 },
 "nbformat": 4,
 "nbformat_minor": 2
}
