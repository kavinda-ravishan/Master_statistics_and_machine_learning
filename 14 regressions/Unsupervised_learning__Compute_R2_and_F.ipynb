{
 "cells": [
  {
   "cell_type": "code",
   "execution_count": 51,
   "metadata": {},
   "outputs": [],
   "source": [
    "import numpy as np\n",
    "import matplotlib.pyplot as plt\n",
    "import scipy.stats as stats"
   ]
  },
  {
   "cell_type": "code",
   "execution_count": 34,
   "metadata": {},
   "outputs": [],
   "source": [
    "sleepHours = [5, 5.5, 6, 6, 7, 7, 7.5, 8, 8.5, 9]\n",
    "dollars = [47, 53, 52, 44, 39, 49, 50, 38, 43, 40]"
   ]
  },
  {
   "cell_type": "code",
   "execution_count": 35,
   "metadata": {},
   "outputs": [
    {
     "data": {
      "text/plain": [
       "array([[1. , 5. ],\n",
       "       [1. , 5.5],\n",
       "       [1. , 6. ],\n",
       "       [1. , 6. ],\n",
       "       [1. , 7. ],\n",
       "       [1. , 7. ],\n",
       "       [1. , 7.5],\n",
       "       [1. , 8. ],\n",
       "       [1. , 8.5],\n",
       "       [1. , 9. ]])"
      ]
     },
     "execution_count": 35,
     "metadata": {},
     "output_type": "execute_result"
    }
   ],
   "source": [
    "X = np.vstack( [np.ones(len(dollars)), sleepHours]).T\n",
    "X"
   ]
  },
  {
   "cell_type": "code",
   "execution_count": 36,
   "metadata": {},
   "outputs": [
    {
     "data": {
      "text/plain": [
       "array([47, 53, 52, 44, 39, 49, 50, 38, 43, 40])"
      ]
     },
     "execution_count": 36,
     "metadata": {},
     "output_type": "execute_result"
    }
   ],
   "source": [
    "y = np.array(dollars)\n",
    "y"
   ]
  },
  {
   "cell_type": "code",
   "execution_count": 37,
   "metadata": {},
   "outputs": [
    {
     "name": "stdout",
     "output_type": "stream",
     "text": [
      "Beta_0 : 62.85, Beta_1 : -2.50\n"
     ]
    }
   ],
   "source": [
    "betaCoeff = np.linalg.inv(X.T @ X) @ X.T @ y\n",
    "print(f'Beta_0 : {betaCoeff[0]:.2f}, Beta_1 : {betaCoeff[1]:.2f}')"
   ]
  },
  {
   "cell_type": "code",
   "execution_count": 38,
   "metadata": {},
   "outputs": [
    {
     "data": {
      "text/plain": [
       "array([50.3672496 , 49.11923688, 47.87122417, 47.87122417, 45.37519873,\n",
       "       45.37519873, 44.12718601, 42.87917329, 41.63116057, 40.38314785])"
      ]
     },
     "execution_count": 38,
     "metadata": {},
     "output_type": "execute_result"
    }
   ],
   "source": [
    "yhat = X @ betaCoeff\n",
    "yhat"
   ]
  },
  {
   "cell_type": "code",
   "execution_count": 39,
   "metadata": {},
   "outputs": [
    {
     "data": {
      "image/png": "[encoded data removed]",
      "text/plain": [
       "<Figure size 432x288 with 1 Axes>"
      ]
     },
     "metadata": {
      "needs_background": "light"
     },
     "output_type": "display_data"
    }
   ],
   "source": [
    "plt.plot(sleepHours, y, 'ro')\n",
    "plt.plot(sleepHours, yhat, 'bo--')\n",
    "plt.show()"
   ]
  },
  {
   "cell_type": "code",
   "execution_count": 47,
   "metadata": {},
   "outputs": [],
   "source": [
    "SSe = np.sum(np.square(y - yhat)) # SSerror\n",
    "SSt = np.sum(np.square(y - np.mean(y))) # SStotal\n",
    "\n",
    "R2 = 1 - (SSe / SSt)"
   ]
  },
  {
   "cell_type": "code",
   "execution_count": 48,
   "metadata": {},
   "outputs": [
    {
     "data": {
      "text/plain": [
       "10"
      ]
     },
     "execution_count": 48,
     "metadata": {},
     "output_type": "execute_result"
    }
   ],
   "source": [
    "k = 2 # Number of Beta coeff\n",
    "N = X.shape[0] # Number of data points"
   ]
  },
  {
   "cell_type": "code",
   "execution_count": 54,
   "metadata": {},
   "outputs": [],
   "source": [
    "SSm = np.sum( np.square(yhat - np.mean(y)) ) # SSmodel\n",
    "F = (SSm / (k-1))/(SSe / (N-k))\n",
    "pval = 1 - stats.f.cdf(F, k-1, N-k) "
   ]
  },
  {
   "cell_type": "code",
   "execution_count": 58,
   "metadata": {},
   "outputs": [
    {
     "name": "stdout",
     "output_type": "stream",
     "text": [
      "R^2 : 0.36, F(1,8) : 4.54, p : 0.066\n"
     ]
    }
   ],
   "source": [
    "print(f'R^2 : {R2:.2f}, F({k-1},{N-k}) : {F:.2f}, p : {pval:.3f}')"
   ]
  }
 ],
 "metadata": {
  "interpreter": {
   "hash": "293c111297a61481508202fcd690d673b0775ece2d2d867b62b8842b676a9a30"
  },
  "kernelspec": {
   "display_name": "Python 3.8.8 64-bit ('base': conda)",
   "language": "python",
   "name": "python3"
  },
  "language_info": {
   "codemirror_mode": {
    "name": "ipython",
    "version": 3
   },
   "file_extension": ".py",
   "mimetype": "text/x-python",
   "name": "python",
   "nbconvert_exporter": "python",
   "pygments_lexer": "ipython3",
   "version": "3.8.8"
  },
  "orig_nbformat": 4
 },
 "nbformat": 4,
 "nbformat_minor": 2
}
