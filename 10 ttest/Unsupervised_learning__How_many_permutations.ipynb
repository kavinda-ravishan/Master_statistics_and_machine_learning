{
 "cells": [
  {
   "cell_type": "code",
   "execution_count": 1,
   "source": [
    "import matplotlib.pyplot as plt\r\n",
    "import numpy as np\r\n",
    "import scipy.stats as stats"
   ],
   "outputs": [],
   "metadata": {}
  },
  {
   "cell_type": "code",
   "execution_count": 2,
   "source": [
    "## simulate two distributions\r\n",
    "\r\n",
    "# number of trials\r\n",
    "N = 100\r\n",
    "\r\n",
    "# dataset \"A\"\r\n",
    "r = np.random.randn(N)\r\n",
    "r[r>0] = np.log(1+r[r>0])\r\n",
    "dataA = 26-r*10\r\n",
    "\r\n",
    "# get histogram values for later comparison\r\n",
    "yA,xA = np.histogram(dataA,20)\r\n",
    "xA = (xA[:-1]+xA[1:])/2\r\n",
    "\r\n",
    "# dataset \"B\"\r\n",
    "r = np.random.randn(N)\r\n",
    "r[r>0] = np.log(1+r[r>0])\r\n",
    "dataB = 30-r*10\r\n",
    "\r\n",
    "#get histogram values for later comparison\r\n",
    "yB,xB = np.histogram(dataB,20)\r\n",
    "xB = (xB[:-1]+xB[1:])/2\r\n",
    "\r\n",
    "\r\n",
    "plt.stem(xA,yA,'b',markerfmt='bo',basefmt=' ',label='Data\"A\"')\r\n",
    "plt.stem(xB,yB,'r',markerfmt='ro',basefmt=' ',label='Data\"B\"')\r\n",
    "plt.legend()\r\n",
    "plt.show()"
   ],
   "outputs": [
    {
     "output_type": "display_data",
     "data": {
      "image/png": "[encoded data removed]",
      "text/plain": [
       "<Figure size 432x288 with 1 Axes>"
      ]
     },
     "metadata": {
      "needs_background": "light"
     }
    }
   ],
   "metadata": {}
  },
  {
   "cell_type": "code",
   "execution_count": 3,
   "source": [
    "## mix trials together\r\n",
    "\r\n",
    "# concatenate trials\r\n",
    "alldata = np.hstack((dataA,dataB))\r\n",
    "\r\n",
    "# condition labels\r\n",
    "conds = np.hstack((np.ones(N),2*np.ones(N)))"
   ],
   "outputs": [],
   "metadata": {}
  },
  {
   "cell_type": "code",
   "execution_count": 4,
   "source": [
    "nPerms = np.arange(100, 5001, 100)\r\n",
    "zVal = np.zeros(nPerms.shape[0])\r\n",
    "obsval = np.mean(alldata[conds==2]) - np.mean(alldata[conds==1])"
   ],
   "outputs": [],
   "metadata": {}
  },
  {
   "cell_type": "code",
   "execution_count": null,
   "source": [
    "for i in range(nPerms.shape[0]):\r\n",
    "    permdiffs = np.zeros(nPerms[i])\r\n",
    "\r\n",
    "    for permi in range(nPerms[i]):\r\n",
    "        fconds = np.random.permutation(N*2)\r\n",
    "        fconds[fconds<N] = 1\r\n",
    "        fconds[fconds>1] = 2\r\n",
    "        permdiffs[permi] = np.mean(alldata[fconds==2]) - np.mean(alldata[fconds==1])\r\n",
    "\r\n",
    "    zVal[i] = ( obsval-np.mean(permdiffs) ) / np.std(permdiffs,ddof=1)\r\n",
    "    print(i)\r\n"
   ],
   "outputs": [],
   "metadata": {}
  },
  {
   "cell_type": "code",
   "execution_count": 6,
   "source": [
    "zValMean = np.mean(zVal)\r\n",
    "p = 1-stats.norm.cdf(abs(zValMean))\r\n",
    "\r\n",
    "print(f'Mean Z-Value : {zValMean}, p-value : {p}')"
   ],
   "outputs": [
    {
     "output_type": "stream",
     "name": "stdout",
     "text": [
      "Mean Z-Value : 2.7726247747505677, p-value : 0.0027803098563401463\n"
     ]
    }
   ],
   "metadata": {}
  },
  {
   "cell_type": "code",
   "execution_count": 7,
   "source": [
    "plt.hist(zVal)\r\n",
    "plt.plot([zValMean, zValMean], [0, 25],'m',linewidth=10)\r\n",
    "plt.xlabel('Z-Value')\r\n",
    "plt.ylabel('Count')\r\n",
    "plt.show()"
   ],
   "outputs": [
    {
     "output_type": "display_data",
     "data": {
      "image/png": "[encoded data removed]",
      "text/plain": [
       "<Figure size 432x288 with 1 Axes>"
      ]
     },
     "metadata": {
      "needs_background": "light"
     }
    }
   ],
   "metadata": {}
  },
  {
   "cell_type": "code",
   "execution_count": 8,
   "source": [
    "plt.plot(nPerms, zVal, 'ko')\r\n",
    "plt.plot([np.min(nPerms), np.max(nPerms)], [zValMean, zValMean], 'r')\r\n",
    "plt.xlabel('Number of permutations per test')\r\n",
    "plt.ylabel('Z-Value')\r\n",
    "plt.show()"
   ],
   "outputs": [
    {
     "output_type": "display_data",
     "data": {
      "image/png": "[encoded data removed]",
      "text/plain": [
       "<Figure size 432x288 with 1 Axes>"
      ]
     },
     "metadata": {
      "needs_background": "light"
     }
    }
   ],
   "metadata": {}
  }
 ],
 "metadata": {
  "orig_nbformat": 4,
  "language_info": {
   "name": "python",
   "version": "3.8.5",
   "mimetype": "text/x-python",
   "codemirror_mode": {
    "name": "ipython",
    "version": 3
   },
   "pygments_lexer": "ipython3",
   "nbconvert_exporter": "python",
   "file_extension": ".py"
  },
  "kernelspec": {
   "name": "python3",
   "display_name": "Python 3.8.5 64-bit"
  },
  "interpreter": {
   "hash": "293c111297a61481508202fcd690d673b0775ece2d2d867b62b8842b676a9a30"
  }
 },
 "nbformat": 4,
 "nbformat_minor": 2
}