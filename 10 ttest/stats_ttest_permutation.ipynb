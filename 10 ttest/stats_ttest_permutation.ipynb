{
 "cells": [
  {
   "cell_type": "markdown",
   "source": [
    "# COURSE: Master statistics and machine learning: Intuition, Math, code\n",
    "##### COURSE URL: udemy.com/course/statsml_x/?couponCode=202006 \n",
    "## SECTION: The t-test family\n",
    "### VIDEO: Permutation testing\n",
    "#### TEACHER: Mike X Cohen, sincxpress.com"
   ],
   "metadata": {}
  },
  {
   "cell_type": "code",
   "execution_count": 1,
   "source": [
    "# import libraries\r\n",
    "import matplotlib.pyplot as plt\r\n",
    "import numpy as np\r\n",
    "import scipy.stats as stats"
   ],
   "outputs": [],
   "metadata": {}
  },
  {
   "cell_type": "code",
   "execution_count": 2,
   "source": [
    "## simulate two distributions\r\n",
    "\r\n",
    "# number of trials\r\n",
    "N = 100\r\n",
    "\r\n",
    "# dataset \"A\"\r\n",
    "r = np.random.randn(N)\r\n",
    "r[r>0] = np.log(1+r[r>0])\r\n",
    "dataA = 26-r*10\r\n",
    "\r\n",
    "# get histogram values for later comparison\r\n",
    "yA,xA = np.histogram(dataA,20)\r\n",
    "xA = (xA[:-1]+xA[1:])/2\r\n",
    "\r\n",
    "# dataset \"B\"\r\n",
    "r = np.random.randn(N)\r\n",
    "r[r>0] = np.log(1+r[r>0])\r\n",
    "dataB = 30-r*10\r\n",
    "\r\n",
    "#get histogram values for later comparison\r\n",
    "yB,xB = np.histogram(dataB,20)\r\n",
    "xB = (xB[:-1]+xB[1:])/2\r\n",
    "\r\n",
    "\r\n",
    "plt.stem(xA,yA,'b',markerfmt='bo',basefmt=' ',label='Data\"A\"')\r\n",
    "plt.stem(xB,yB,'r',markerfmt='ro',basefmt=' ',label='Data\"B\"')\r\n",
    "plt.legend()\r\n",
    "plt.show()"
   ],
   "outputs": [
    {
     "output_type": "display_data",
     "data": {
      "image/png": "[encoded data removed]",
      "text/plain": [
       "<Figure size 432x288 with 1 Axes>"
      ]
     },
     "metadata": {
      "needs_background": "light"
     }
    }
   ],
   "metadata": {}
  },
  {
   "cell_type": "code",
   "execution_count": 3,
   "source": [
    "## mix trials together\r\n",
    "\r\n",
    "# concatenate trials\r\n",
    "alldata = np.hstack((dataA,dataB))\r\n",
    "\r\n",
    "# condition labels\r\n",
    "conds = np.hstack((np.ones(N),2*np.ones(N)))"
   ],
   "outputs": [],
   "metadata": {}
  },
  {
   "cell_type": "code",
   "execution_count": 4,
   "source": [
    "np.concatenate( (alldata.reshape(-1, 1), conds.reshape(-1, 1)), 1 )[95:105]"
   ],
   "outputs": [
    {
     "output_type": "execute_result",
     "data": {
      "text/plain": [
       "array([[36.10963402,  1.        ],\n",
       "       [37.41889637,  1.        ],\n",
       "       [18.1925198 ,  1.        ],\n",
       "       [29.63098   ,  1.        ],\n",
       "       [19.62519667,  1.        ],\n",
       "       [34.19319159,  2.        ],\n",
       "       [37.44515155,  2.        ],\n",
       "       [49.29071518,  2.        ],\n",
       "       [37.25728938,  2.        ],\n",
       "       [28.346871  ,  2.        ]])"
      ]
     },
     "metadata": {},
     "execution_count": 4
    }
   ],
   "metadata": {}
  },
  {
   "cell_type": "code",
   "execution_count": 5,
   "source": [
    "## generate one null hypothesis scenario\r\n",
    "\r\n",
    "# random permutation\r\n",
    "fakeconds = np.random.permutation(N*2)\r\n",
    "\r\n",
    "# shuffled condition labels\r\n",
    "fakeconds[fakeconds<N] = 1\r\n",
    "fakeconds[fakeconds>1] = 2\r\n",
    "\r\n",
    "\r\n",
    "# these two means should be different.\r\n",
    "print([np.mean(alldata[conds==1]), np.mean(alldata[conds==2])])\r\n",
    "\r\n",
    "# should these two be different?\r\n",
    "print([np.mean(alldata[fakeconds==1]), np.mean(alldata[fakeconds==2])])\r\n"
   ],
   "outputs": [
    {
     "output_type": "stream",
     "name": "stdout",
     "text": [
      "[26.734464090761985, 29.903728534025205]\n",
      "[27.604552507037123, 29.033640117750057]\n"
     ]
    }
   ],
   "metadata": {}
  },
  {
   "cell_type": "code",
   "execution_count": 6,
   "source": [
    "## and now a distribution of null hypothesis values\r\n",
    "\r\n",
    "nPerms = 1000\r\n",
    "permdiffs = np.zeros(nPerms)\r\n",
    "\r\n",
    "for permi in range(nPerms):\r\n",
    "    fconds = np.random.permutation(N*2)\r\n",
    "    fconds[fconds<N] = 1\r\n",
    "    fconds[fconds>1] = 2\r\n",
    "    permdiffs[permi] = np.mean(alldata[fconds==2]) - np.mean(alldata[fconds==1])\r\n",
    "\r\n",
    "\r\n",
    "# plot the distribution of H0 values\r\n",
    "plt.hist(permdiffs,50)\r\n",
    "\r\n",
    "# and plot the observed value on top\r\n",
    "obsval = np.mean(alldata[conds==2]) - np.mean(alldata[conds==1])\r\n",
    "plt.plot([obsval, obsval],[0, 50],'m',linewidth=10)\r\n",
    "plt.xlabel('Value')\r\n",
    "plt.ylabel('Count')\r\n",
    "plt.show()"
   ],
   "outputs": [
    {
     "output_type": "display_data",
     "data": {
      "image/png": "[encoded data removed]",
      "text/plain": [
       "<Figure size 432x288 with 1 Axes>"
      ]
     },
     "metadata": {
      "needs_background": "light"
     }
    }
   ],
   "metadata": {}
  },
  {
   "cell_type": "code",
   "execution_count": 7,
   "source": [
    "## two methods of evaluating statistical significance\r\n",
    "\r\n",
    "# Z-value\r\n",
    "zVal = ( obsval-np.mean(permdiffs) ) / np.std(permdiffs,ddof=1)\r\n",
    "p = 1-stats.norm.cdf(abs(zVal))\r\n",
    "\r\n",
    "# p-value count\r\n",
    "pCount = sum(permdiffs>obsval)/nPerms\r\n",
    "\r\n",
    "print(p,pCount)"
   ],
   "outputs": [
    {
     "output_type": "stream",
     "name": "stdout",
     "text": [
      "0.002891109806615999 0.001\n"
     ]
    }
   ],
   "metadata": {}
  }
 ],
 "metadata": {
  "kernelspec": {
   "name": "python3",
   "display_name": "Python 3.8.5 64-bit"
  },
  "language_info": {
   "codemirror_mode": {
    "name": "ipython",
    "version": 3
   },
   "file_extension": ".py",
   "mimetype": "text/x-python",
   "name": "python",
   "nbconvert_exporter": "python",
   "pygments_lexer": "ipython3",
   "version": "3.8.5"
  },
  "interpreter": {
   "hash": "293c111297a61481508202fcd690d673b0775ece2d2d867b62b8842b676a9a30"
  }
 },
 "nbformat": 4,
 "nbformat_minor": 2
}