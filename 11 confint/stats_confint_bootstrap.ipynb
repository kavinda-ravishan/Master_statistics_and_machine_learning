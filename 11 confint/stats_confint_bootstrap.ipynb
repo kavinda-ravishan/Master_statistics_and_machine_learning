{
 "cells": [
  {
   "cell_type": "markdown",
   "source": [
    "# COURSE: Master statistics and machine learning: Intuition, Math, code\n",
    "##### COURSE URL: udemy.com/course/statsml_x/?couponCode=202006 \n",
    "## SECTION: Confidence intervals\n",
    "### VIDEO: Bootstrapping confidence intervals\n",
    "#### TEACHER: Mike X Cohen, sincxpress.com"
   ],
   "metadata": {}
  },
  {
   "cell_type": "code",
   "execution_count": 1,
   "source": [
    "# import libraries\r\n",
    "import matplotlib.pyplot as plt\r\n",
    "import numpy as np\r\n",
    "import scipy.stats as stats\r\n",
    "from matplotlib.patches import Polygon"
   ],
   "outputs": [],
   "metadata": {}
  },
  {
   "cell_type": "code",
   "execution_count": 2,
   "source": [
    "## simulate data\r\n",
    "\r\n",
    "popN = int(1e7)  # lots and LOTS of data!!\r\n",
    "\r\n",
    "# the data (note: non-normal!)\r\n",
    "population = (4*np.random.randn(popN))**2\r\n",
    "\r\n",
    "# we can calculate the exact population mean\r\n",
    "popMean = np.mean(population)\r\n",
    "\r\n",
    "# let's see it\r\n",
    "fig,ax = plt.subplots(2,1,figsize=(6,4))\r\n",
    "\r\n",
    "# only plot every 1000th sample\r\n",
    "ax[0].plot(population[::1000],'k.')\r\n",
    "ax[0].set_xlabel('Data index')\r\n",
    "ax[0].set_ylabel('Data value')\r\n",
    "\r\n",
    "ax[1].hist(population,bins='fd')\r\n",
    "ax[1].set_ylabel('Count')\r\n",
    "ax[1].set_xlabel('Data value')\r\n",
    "plt.show()\r\n"
   ],
   "outputs": [
    {
     "output_type": "display_data",
     "data": {
      "image/png": "[encoded data removed]",
      "text/plain": [
       "<Figure size 432x288 with 2 Axes>"
      ]
     },
     "metadata": {
      "needs_background": "light"
     }
    }
   ],
   "metadata": {}
  },
  {
   "cell_type": "code",
   "execution_count": 3,
   "source": [
    "## draw a random sample\r\n",
    "\r\n",
    "# parameters\r\n",
    "samplesize = 40\r\n",
    "confidence = 95 # in percent\r\n",
    "\r\n",
    "# compute sample mean\r\n",
    "randSamples = np.random.randint(0,popN,samplesize)\r\n",
    "sampledata  = population[randSamples]\r\n",
    "samplemean  = np.mean(population[randSamples])\r\n",
    "samplestd   = np.std(population[randSamples]) # used later for analytic solution\r\n",
    "\r\n",
    "\r\n",
    "\r\n",
    "### now for bootstrapping\r\n",
    "numBoots  = 1000\r\n",
    "bootmeans = np.zeros(numBoots)\r\n",
    "\r\n",
    "# resample with replacement\r\n",
    "for booti in range(numBoots):\r\n",
    "    bootmeans[booti] = np.mean( np.random.choice(sampledata,samplesize) )\r\n",
    "    \r\n",
    "\r\n",
    "# find confidence intervals\r\n",
    "confint = [0,0] # initialize\r\n",
    "confint[0] = np.percentile(bootmeans,(100-confidence)/2)\r\n",
    "confint[1] = np.percentile(bootmeans,100-(100-confidence)/2)"
   ],
   "outputs": [],
   "metadata": {}
  },
  {
   "cell_type": "code",
   "execution_count": 4,
   "source": [
    "## graph everything\r\n",
    "fig,ax = plt.subplots(1,1)\r\n",
    "\r\n",
    "# start with histogram of resampled means\r\n",
    "y,x = np.histogram(bootmeans,40)\r\n",
    "y = y/max(y)\r\n",
    "x = (x[:-1]+x[1:])/2\r\n",
    "ax.bar(x,y)\r\n",
    "\r\n",
    "y = np.array([ [confint[0],0],[confint[1],0],[confint[1],1],[confint[0],1] ])\r\n",
    "p = Polygon(y,facecolor='g',alpha=.3)\r\n",
    "ax.add_patch(p)\r\n",
    "\r\n",
    "# now add the lines\r\n",
    "ax.plot([popMean,popMean],[0, 1.5],'k:',linewidth=2)\r\n",
    "ax.plot([samplemean,samplemean],[0, 1],'r--',linewidth=3)\r\n",
    "ax.set_xlim([popMean-30, popMean+30])\r\n",
    "ax.set_yticks([])\r\n",
    "ax.set_xlabel('Data values')\r\n",
    "ax.legend(('True mean','Sample mean','%g%% CI region'%confidence,'Empirical dist.'))\r\n",
    "plt.show()"
   ],
   "outputs": [
    {
     "output_type": "display_data",
     "data": {
      "image/png": "[encoded data removed]",
      "text/plain": [
       "<Figure size 432x288 with 1 Axes>"
      ]
     },
     "metadata": {
      "needs_background": "light"
     }
    }
   ],
   "metadata": {
    "scrolled": true
   }
  },
  {
   "cell_type": "code",
   "execution_count": 5,
   "source": [
    "## compare against the analytic confidence interval\r\n",
    "\r\n",
    "# compute confidence intervals\r\n",
    "citmp = (1-confidence/100)/2\r\n",
    "confint2 = samplemean + stats.t.ppf([citmp, 1-citmp],samplesize-1) * samplestd/np.sqrt(samplesize)\r\n",
    "\r\n",
    "print('Empirical: %g - %g'%(confint[0],confint[1]))\r\n",
    "print('Analytic:  %g - %g'%(confint2[0],confint2[1]))"
   ],
   "outputs": [
    {
     "output_type": "stream",
     "name": "stdout",
     "text": [
      "Empirical: 11.3043 - 20.7925\n",
      "Analytic:  10.8419 - 20.8969\n"
     ]
    }
   ],
   "metadata": {}
  }
 ],
 "metadata": {
  "kernelspec": {
   "name": "python3",
   "display_name": "Python 3.8.5 64-bit ('base': conda)"
  },
  "language_info": {
   "codemirror_mode": {
    "name": "ipython",
    "version": 3
   },
   "file_extension": ".py",
   "mimetype": "text/x-python",
   "name": "python",
   "nbconvert_exporter": "python",
   "pygments_lexer": "ipython3",
   "version": "3.8.5"
  },
  "interpreter": {
   "hash": "293c111297a61481508202fcd690d673b0775ece2d2d867b62b8842b676a9a30"
  }
 },
 "nbformat": 4,
 "nbformat_minor": 2
}